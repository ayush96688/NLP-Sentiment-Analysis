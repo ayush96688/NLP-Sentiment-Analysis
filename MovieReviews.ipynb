{
  "cells": [
    {
      "metadata": {
        "_uuid": "8f2839f25d086af736a60e9eeb907d3b93b6e0e5",
        "_cell_guid": "b1076dfc-b9ad-4769-8c92-a6c4dae69d19",
        "trusted": true
      },
      "cell_type": "code",
      "source": "import numpy as np \nimport pandas as pd \nimport os\ndata=pd.read_csv('../input/moviereviews.tsv',sep='\\t',)\n",
      "execution_count": null,
      "outputs": []
    },
    {
      "metadata": {
        "_cell_guid": "79c7e3d0-c299-4dcb-8224-4455121ee9b0",
        "_uuid": "d629ff2d2480ee46fbb7e2d37f6b5fab8052498a",
        "trusted": true
      },
      "cell_type": "code",
      "source": "data.head()",
      "execution_count": null,
      "outputs": []
    },
    {
      "metadata": {
        "trusted": true,
        "_uuid": "1a0440319027d08cb03aa515c5f9f721dfb7265b"
      },
      "cell_type": "code",
      "source": "data.isnull().sum()",
      "execution_count": null,
      "outputs": []
    },
    {
      "metadata": {
        "trusted": true,
        "_uuid": "7d4473ed1075bfecf4b4ab831af4c01aacdb1d67"
      },
      "cell_type": "code",
      "source": "data.dropna(inplace=True)",
      "execution_count": null,
      "outputs": []
    },
    {
      "metadata": {
        "trusted": true,
        "_uuid": "597357b5dee7c0d2022fa8d80771fe6cd2fc406e"
      },
      "cell_type": "code",
      "source": "blanks=[]\n\nfor i,lb,rv in data.itertuples():\n    if rv.isspace():\n        blanks.append(i)",
      "execution_count": null,
      "outputs": []
    },
    {
      "metadata": {
        "trusted": true,
        "_uuid": "1b8ad4007a5e158d2c138c376a625f2c7fed0c9b"
      },
      "cell_type": "code",
      "source": "blanks",
      "execution_count": null,
      "outputs": []
    },
    {
      "metadata": {
        "trusted": true,
        "_uuid": "1e92f44c140c5de32fc2554acbf60b1d4f887512"
      },
      "cell_type": "code",
      "source": "data.drop(blanks,inplace=True)",
      "execution_count": null,
      "outputs": []
    },
    {
      "metadata": {
        "trusted": true,
        "_uuid": "40737d645864e924e62c2fc830931c82ee92f2f9"
      },
      "cell_type": "code",
      "source": "len(data)",
      "execution_count": null,
      "outputs": []
    },
    {
      "metadata": {
        "trusted": true,
        "_uuid": "623b7c5227980ab792845760eec312df733f4547"
      },
      "cell_type": "code",
      "source": "from sklearn.model_selection import train_test_split",
      "execution_count": null,
      "outputs": []
    },
    {
      "metadata": {
        "trusted": true,
        "_uuid": "5aecbf5ed35f9e548bc87f7a7e61d815ab335f9a"
      },
      "cell_type": "code",
      "source": "X=data['review']",
      "execution_count": null,
      "outputs": []
    },
    {
      "metadata": {
        "trusted": true,
        "_uuid": "c74db494b37c4288ad10003960171ca059da4340"
      },
      "cell_type": "code",
      "source": "y=data['label']",
      "execution_count": null,
      "outputs": []
    },
    {
      "metadata": {
        "trusted": true,
        "_uuid": "9a26f6bfe5291150c274b4ffa0080121a9019d41"
      },
      "cell_type": "code",
      "source": "X_train,X_test,y_train,y_test=train_test_split(X,y,test_size=0.3)",
      "execution_count": null,
      "outputs": []
    },
    {
      "metadata": {
        "trusted": true,
        "_uuid": "1af1ad57543767779198a38bac0794a418105ba4"
      },
      "cell_type": "code",
      "source": "from sklearn.pipeline import Pipeline\nfrom sklearn.feature_extraction.text import TfidfVectorizer\nfrom sklearn.svm import LinearSVC\n",
      "execution_count": null,
      "outputs": []
    },
    {
      "metadata": {
        "trusted": true,
        "_uuid": "f42d85683db9a8e62cbce5701b884b35a264da2c"
      },
      "cell_type": "code",
      "source": "text=Pipeline([('tfidf',TfidfVectorizer()),('clf',LinearSVC())])",
      "execution_count": null,
      "outputs": []
    },
    {
      "metadata": {
        "trusted": true,
        "_uuid": "2e59ca22a2f9f84ce2fa3d9c4dfc2aacfe36b0cb"
      },
      "cell_type": "code",
      "source": "text.fit(X_train,y_train)",
      "execution_count": null,
      "outputs": []
    },
    {
      "metadata": {
        "trusted": true,
        "_uuid": "3a7bc1939f11343c561e92c865d140249d16a66e"
      },
      "cell_type": "code",
      "source": "pred=text.predict(X_test)",
      "execution_count": null,
      "outputs": []
    },
    {
      "metadata": {
        "trusted": true,
        "_uuid": "ea4dd644ca52f27c8d6d930c79a8ccf85113502c"
      },
      "cell_type": "code",
      "source": "from sklearn.metrics import confusion_matrix,classification_report,accuracy_score\n",
      "execution_count": null,
      "outputs": []
    },
    {
      "metadata": {
        "trusted": true,
        "_uuid": "1eda26c090b04af920544f1905caf60857952a5e"
      },
      "cell_type": "code",
      "source": "print(confusion_matrix(y_test,pred))\nprint(classification_report(y_test,pred))\nprint(accuracy_score(y_test,pred))",
      "execution_count": null,
      "outputs": []
    },
    {
      "metadata": {
        "trusted": true,
        "_uuid": "5bf5eecc075413e5efa859ad8d890371264b722c"
      },
      "cell_type": "code",
      "source": "",
      "execution_count": null,
      "outputs": []
    }
  ],
  "metadata": {
    "kernelspec": {
      "display_name": "Python 3",
      "language": "python",
      "name": "python3"
    },
    "language_info": {
      "name": "python",
      "version": "3.6.6",
      "mimetype": "text/x-python",
      "codemirror_mode": {
        "name": "ipython",
        "version": 3
      },
      "pygments_lexer": "ipython3",
      "nbconvert_exporter": "python",
      "file_extension": ".py"
    }
  },
  "nbformat": 4,
  "nbformat_minor": 1
}