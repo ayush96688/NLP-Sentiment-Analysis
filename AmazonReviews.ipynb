{
 "cells": [
  {
   "cell_type": "code",
   "execution_count": null,
   "metadata": {
    "_uuid": "8f2839f25d086af736a60e9eeb907d3b93b6e0e5",
    "_cell_guid": "b1076dfc-b9ad-4769-8c92-a6c4dae69d19",
    "trusted": true
   },
   "outputs": [],
   "source": [
    "import pandas as pd\n",
    "import numpy as np\n"
   ]
  },
  {
   "cell_type": "code",
   "execution_count": null,
   "metadata": {
    "trusted": true,
    "_uuid": "81350f1caaf70959733dce932a4291065b265e3e"
   },
   "outputs": [],
   "source": [
    "data=pd.read_csv('../input/amazonreviews.tsv',sep='\\t')"
   ]
  },
  {
   "cell_type": "code",
   "execution_count": null,
   "metadata": {
    "trusted": true,
    "_uuid": "75de50b85e263bb6298c686fdbfabb41ed14f11e"
   },
   "outputs": [],
   "source": [
    "from nltk.sentiment import SentimentIntensityAnalyzer"
   ]
  },
  {
   "cell_type": "code",
   "execution_count": null,
   "metadata": {
    "trusted": true,
    "_uuid": "f657445e788d6a5dacb0444cf8bda816856a854b"
   },
   "outputs": [],
   "source": [
    "sent=SentimentIntensityAnalyzer()"
   ]
  },
  {
   "cell_type": "code",
   "execution_count": null,
   "metadata": {
    "trusted": true,
    "_uuid": "ca0689c11f62a561a0de6ccf79586305d779792a"
   },
   "outputs": [],
   "source": [
    "data.isnull().sum()"
   ]
  },
  {
   "cell_type": "code",
   "execution_count": null,
   "metadata": {
    "trusted": true,
    "_uuid": "7d1fb2463fb4d12263bb100186072403a042b114"
   },
   "outputs": [],
   "source": [
    "sent.polarity_scores(data.iloc[0]['review'])"
   ]
  },
  {
   "cell_type": "code",
   "execution_count": null,
   "metadata": {
    "trusted": true,
    "_uuid": "6ba257f176681466b8189f93fca815510a375953"
   },
   "outputs": [],
   "source": [
    "data['scores']=data['review'].apply(lambda review: sent.polarity_scores(review))"
   ]
  },
  {
   "cell_type": "code",
   "execution_count": null,
   "metadata": {
    "trusted": true,
    "_uuid": "b3e8f76ff0e1265ae5ce61b166e5717d3e5135f1"
   },
   "outputs": [],
   "source": [
    "data.head(10)"
   ]
  },
  {
   "cell_type": "code",
   "execution_count": null,
   "metadata": {
    "trusted": true,
    "_uuid": "6b81797710dc700256b3ebe7ad60856e2a7bc54e"
   },
   "outputs": [],
   "source": [
    "data['compound']=data['scores'].apply(lambda d: d['compound'])"
   ]
  },
  {
   "cell_type": "code",
   "execution_count": null,
   "metadata": {
    "trusted": true,
    "_uuid": "dfd4c368f95d20bb377e642e867b618b9875bcd1"
   },
   "outputs": [],
   "source": [
    "data.head()"
   ]
  },
  {
   "cell_type": "code",
   "execution_count": null,
   "metadata": {
    "trusted": true,
    "_uuid": "1b2a337cf87257ceac056a718b78741f83818623"
   },
   "outputs": [],
   "source": [
    "data['comp_score']=data['compound'].apply(lambda score: 'pos' if score>=0 else 'neg')"
   ]
  },
  {
   "cell_type": "code",
   "execution_count": null,
   "metadata": {
    "trusted": true,
    "_uuid": "1aed506a795cc8e8637605d68f67d0076a77bd1e"
   },
   "outputs": [],
   "source": [
    "data.head()"
   ]
  },
  {
   "cell_type": "code",
   "execution_count": null,
   "metadata": {
    "trusted": true,
    "_uuid": "198d979f5274e491d2e4a3b8ffa2d1c5c7414d42"
   },
   "outputs": [],
   "source": [
    "from sklearn.metrics import accuracy_score,classification_report,confusion_matrix"
   ]
  },
  {
   "cell_type": "code",
   "execution_count": null,
   "metadata": {
    "trusted": true,
    "_uuid": "aa68b7caf751873f2e49b336898e873a2d198d6e"
   },
   "outputs": [],
   "source": [
    "accuracy_score(data['label'],data['comp_score'])"
   ]
  },
  {
   "cell_type": "code",
   "execution_count": null,
   "metadata": {
    "trusted": true,
    "_uuid": "787f18f226ba272eb76fa42c927734225bd4bf4e"
   },
   "outputs": [],
   "source": [
    "print(classification_report(data['label'],data['comp_score']))"
   ]
  },
  {
   "cell_type": "code",
   "execution_count": null,
   "metadata": {
    "trusted": true,
    "_uuid": "1290f75e426d5abbee63a9a1bb9debf400fc51aa"
   },
   "outputs": [],
   "source": [
    "print(confusion_matrix(data['label'],data['comp_score']))"
   ]
  },
  {
   "cell_type": "code",
   "execution_count": null,
   "metadata": {
    "trusted": true,
    "_uuid": "4b8630709357ec42c2a5733fa3277d4dbeb3f90f"
   },
   "outputs": [],
   "source": [
    ""
   ]
  }
 ],
 "metadata": {
  "kernelspec": {
   "display_name": "Python 3",
   "language": "python",
   "name": "python3"
  },
  "language_info": {
   "name": "python",
   "version": "3.6.6",
   "mimetype": "text/x-python",
   "codemirror_mode": {
    "name": "ipython",
    "version": 3
   },
   "pygments_lexer": "ipython3",
   "nbconvert_exporter": "python",
   "file_extension": ".py"
  }
 },
 "nbformat": 4,
 "nbformat_minor": 1
}
